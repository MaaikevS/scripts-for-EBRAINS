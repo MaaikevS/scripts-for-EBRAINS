{
 "cells": [
  {
   "cell_type": "markdown",
   "metadata": {},
   "source": [
    "## Extracting important metadata of tissue sample collections\n",
    "\n",
    "With this notebook you can do the following:\n",
    "1. Query tissue sample collection metadata via the API for a particular dataset version\n",
    "2. Save the information to a CSV file so that it can be used to create service links\n",
    "\n",
    "To be able to run the script, you need to the following requirements:\n",
    "- Python version >= 3.6\n",
    "- read and write permission to the KG via the API"
   ]
  },
  {
   "cell_type": "code",
   "execution_count": 16,
   "metadata": {},
   "outputs": [],
   "source": [
    "# import relevant packages\n",
    "from getpass import getpass\n",
    "import requests\n",
    "import pandas as pd"
   ]
  },
  {
   "cell_type": "markdown",
   "metadata": {},
   "source": [
    "### Authentication\n",
    "\n",
    "To interact with the API, you need an access token. To request a token, follow this link: https://nexus-iam.humanbrainproject.org/v0/oauth2/authorize or copy your token from the Knowledge Graph Editor (if you have access)."
   ]
  },
  {
   "cell_type": "code",
   "execution_count": 17,
   "metadata": {},
   "outputs": [],
   "source": [
    "token = getpass(prompt='Please paste your token: ')"
   ]
  },
  {
   "cell_type": "markdown",
   "metadata": {},
   "source": [
    "### Identify the dataset version\n",
    "\n",
    "Fill in the UUID of the dataset version you want to extract the tissue sample collection information from."
   ]
  },
  {
   "cell_type": "code",
   "execution_count": 18,
   "metadata": {},
   "outputs": [
    {
     "name": "stdout",
     "output_type": "stream",
     "text": [
      "The UUID of the dataset is: 9677359c-73fa-4425-b8fa-3de794e9017a\n"
     ]
    }
   ],
   "source": [
    "# First identify the dataset version\n",
    "dsv = input(\"What is the UUID of the dataset version? \")\n",
    "print(\"The UUID of the dataset is: \" + dsv)"
   ]
  },
  {
   "cell_type": "markdown",
   "metadata": {},
   "source": [
    "### Query the Knowledge Graph and extract information\n",
    "\n",
    "The following information will be extracted based on the dataset version UUID that you provided.\n",
    "- tsc name, UUID, and internal identifier\n",
    "- linked file bundle name and UUID\n",
    "- DOI of the dataset version\n",
    "- The URL of the repository"
   ]
  },
  {
   "cell_type": "code",
   "execution_count": 19,
   "metadata": {},
   "outputs": [],
   "source": [
    "# This query will extract important information, such as the DOI of the dataset, the tissue sample collections and the linked subjects.\n",
    "query = {\n",
    "  \"@context\": {\n",
    "    \"@vocab\": \"https://core.kg.ebrains.eu/vocab/query/\",\n",
    "    \"query\": \"https://schema.hbp.eu/myQuery/\",\n",
    "    \"propertyName\": {\n",
    "      \"@id\": \"propertyName\",\n",
    "      \"@type\": \"@id\"\n",
    "    },\n",
    "    \"merge\": {\n",
    "      \"@type\": \"@id\",\n",
    "      \"@id\": \"merge\"\n",
    "    },\n",
    "    \"path\": {\n",
    "      \"@id\": \"path\",\n",
    "      \"@type\": \"@id\"\n",
    "    }\n",
    "  },\n",
    "  \"meta\": {\n",
    "    \"name\": \"get-info\",\n",
    "    \"responseVocab\": \"https://schema.hbp.eu/myQuery/\",\n",
    "    \"type\": \"https://openminds.ebrains.eu/core/DatasetVersion\"\n",
    "  },\n",
    "  \"structure\": [\n",
    "    {\n",
    "      \"propertyName\": \"query:id\",\n",
    "      \"path\": \"@id\",\n",
    "      \"required\": True,\n",
    "      \"filter\": {\n",
    "        \"op\": \"CONTAINS\",\n",
    "        \"value\": dsv\n",
    "      }\n",
    "    },\n",
    "    {\n",
    "      \"propertyName\": \"query:digitalIdentifier\",\n",
    "      \"path\": \"https://openminds.ebrains.eu/vocab/digitalIdentifier\",\n",
    "      \"required\": True,\n",
    "      \"structure\": {\n",
    "        \"propertyName\": \"query:identifier\",\n",
    "        \"path\": \"https://openminds.ebrains.eu/vocab/identifier\",\n",
    "        \"required\": True\n",
    "      }\n",
    "    },\n",
    "    {\n",
    "      \"propertyName\": \"query:repository\",\n",
    "      \"path\": \"https://openminds.ebrains.eu/vocab/repository\",\n",
    "      \"structure\": {\n",
    "        \"propertyName\": \"query:IRI\",\n",
    "        \"path\": \"https://openminds.ebrains.eu/vocab/IRI\"\n",
    "      }\n",
    "    },\n",
    "    {\n",
    "      \"propertyName\": \"query:studiedSpecimen\",\n",
    "      \"path\": \"https://openminds.ebrains.eu/vocab/studiedSpecimen\",\n",
    "      \"required\": True,\n",
    "      \"structure\": [\n",
    "        {\n",
    "          \"propertyName\": \"query:id\",\n",
    "          \"path\": \"@id\",\n",
    "          \"required\": True\n",
    "        },\n",
    "        {\n",
    "          \"propertyName\": \"query:lookupLabel\",\n",
    "          \"path\": \"https://openminds.ebrains.eu/vocab/lookupLabel\",\n",
    "          \"required\": True\n",
    "        },\n",
    "        {\n",
    "          \"propertyName\": \"query:type\",\n",
    "          \"path\": \"@type\",\n",
    "          \"required\": True,\n",
    "          \"filter\": {\n",
    "            \"op\": \"CONTAINS\",\n",
    "            \"value\": \"TissueSampleCollection\"\n",
    "          }\n",
    "        },\n",
    "        {\n",
    "          \"propertyName\": \"query:internalIdentifier\",\n",
    "          \"path\": \"https://openminds.ebrains.eu/vocab/internalIdentifier\"\n",
    "        },\n",
    "        {\n",
    "          \"propertyName\": \"query:studiedState\",\n",
    "          \"path\": \"https://openminds.ebrains.eu/vocab/studiedState\",\n",
    "          \"required\": True,\n",
    "          \"structure\": [\n",
    "            {\n",
    "              \"propertyName\": \"query:id\",\n",
    "              \"path\": \"@id\",\n",
    "              \"required\": True\n",
    "            },\n",
    "            {\n",
    "              \"propertyName\": \"query:descendedFrom\",\n",
    "              \"path\": {\n",
    "                \"@id\": \"https://openminds.ebrains.eu/vocab/descendedFrom\",\n",
    "                \"reverse\": True\n",
    "              },\n",
    "              \"required\": True,\n",
    "              \"structure\": [\n",
    "                {\n",
    "                  \"propertyName\": \"query:id\",\n",
    "                  \"path\": \"@id\",\n",
    "                  \"required\": True\n",
    "                },\n",
    "                {\n",
    "                  \"propertyName\": \"query:name\",\n",
    "                  \"path\": \"https://openminds.ebrains.eu/vocab/name\",\n",
    "                  \"required\": True\n",
    "                }\n",
    "              ]\n",
    "            }\n",
    "          ]\n",
    "        }\n",
    "      ]\n",
    "    }\n",
    "  ]\n",
    "}\n"
   ]
  },
  {
   "cell_type": "code",
   "execution_count": 20,
   "metadata": {},
   "outputs": [],
   "source": [
    "# Function to get the info based on what is defined in the query\n",
    "def getInfo(token, stage=\"IN_PROGRESS\"):\n",
    "    \"\"\"\n",
    "    Parameters\n",
    "    ----------\n",
    "    token : string \n",
    "        Authentication token to access data and metadata in the KGE via the API\n",
    "    stage : string\n",
    "        Stage the data are in, e.g. \"RELEASED\", \"IN_PROGRESS\". Default is \"IN_PROGRESS\".\n",
    "\n",
    "    Returns\n",
    "    -------\n",
    "    data : dictionary\n",
    "        All data that was specified in the query\n",
    "        \n",
    "    \"\"\"\n",
    "    \n",
    "    headers = {\"accept\": \"*/*\",\n",
    "        \"Authorization\": \"Bearer \" + token\n",
    "        }\n",
    "\n",
    "    url = \"https://core.kg.ebrains.eu/v3-beta/queries/?vocab=https://schema.hbp.eu/myQuery/&stage={}\"\n",
    "    response = requests.post(url.format(stage), json=query, headers=headers)\n",
    "    data = response.json()\n",
    "    \n",
    "    if response.status_code == 200:\n",
    "        print(response, \"OK!\" )\n",
    "    elif response.status_code == 401:\n",
    "        print(response, \"Token not valid, authorisation not successful\")\n",
    "    else:\n",
    "        print(response)\n",
    "    \n",
    "    return(data)"
   ]
  },
  {
   "cell_type": "markdown",
   "metadata": {},
   "source": [
    "To execute the query we need to define the stage of release. If the data is under embargo, the stage is \"IN_PROGRESS\", if the data has already been released, the stage is \"RELEASED\". The default setting is \"in progress\" as it will find both released and ongoing curated metadata.\n",
    "\n",
    "**Note:** the data should already be released, since file bundles are not created when datasets are under embargo."
   ]
  },
  {
   "cell_type": "code",
   "execution_count": 21,
   "metadata": {},
   "outputs": [
    {
     "name": "stdout",
     "output_type": "stream",
     "text": [
      "<Response [200]> OK!\n",
      "\n",
      "Number of tissue sample collections in this dataset: 17\n",
      "\n",
      "DOI of this dataset: https://doi.org/10.25493/RYZ4-DB9\n",
      "\n",
      "Repository of this dataset: https://object.cscs.ch/v1/AUTH_4791e0a3b3de43e2840fe46d9dc2b334/ext-d000072-Nr2f1-Thy1YFP-mice_pub\n"
     ]
    }
   ],
   "source": [
    "# Define the stage\n",
    "stage = \"IN_PROGRESS\"\n",
    "\n",
    "# Execute the getInfo function\n",
    "result = getInfo(token, stage=stage)\n",
    "\n",
    "# Save relevant metadata\n",
    "tsc_list = result[\"data\"][0][\"studiedSpecimen\"]\n",
    "DOI =  result[\"data\"][0][\"digitalIdentifier\"][0][\"identifier\"]\n",
    "Repo = result[\"data\"][0][\"repository\"][0][\"IRI\"]\n",
    "\n",
    "print('\\nNumber of tissue sample collections in this dataset: ' + str(len(tsc_list)))\n",
    "print('\\nDOI of this dataset: ' + DOI)\n",
    "print('\\nRepository of this dataset: ' + Repo)"
   ]
  },
  {
   "cell_type": "markdown",
   "metadata": {},
   "source": [
    "### Organise and save the metadata\n",
    "\n",
    "The metadata extracted by the query is now organised into an easier to read format and saved as a CSV file. The name of the CSV file is \"tsc_UUID-of-datasetVersion\". "
   ]
  },
  {
   "cell_type": "code",
   "execution_count": 22,
   "metadata": {},
   "outputs": [],
   "source": [
    "# Function to extract tissue sample collection information\n",
    "def extractInfo(tsc_list, DOI, Repo):\n",
    "    \"\"\"\n",
    "    Parameters\n",
    "    ----------\n",
    "    tsc_list : list \n",
    "        Nested list of tsc information\n",
    "\n",
    "    Returns\n",
    "    -------\n",
    "    data : pandas DataFrame\n",
    "        Overview table with extracted information\n",
    "        \n",
    "    \"\"\"\n",
    "\n",
    "    data = pd.DataFrame([])\n",
    "    for tsc in tsc_list:\n",
    "        data = data.append(pd.DataFrame({\"tsc_name\" : tsc[\"lookupLabel\"],\n",
    "                        \"tsc_internalID\" : tsc[\"internalIdentifier\"],\n",
    "                        \"tsc_uuid\" : tsc[\"id\"].split(\"/\")[-1],\n",
    "                        \"tsc_state_uuid\" : tsc[\"studiedState\"][0][\"id\"].split(\"/\")[-1],\n",
    "                        \"fileBundle_name\" : tsc[\"studiedState\"][0][\"descendedFrom\"][0][\"name\"],  \n",
    "                        \"fileBundle_uuid\" : tsc[\"studiedState\"][0][\"descendedFrom\"][0][\"id\"].split(\"/\")[-1],\n",
    "                        \"DOI_dataset\" : DOI,\n",
    "                        \"repository\" : Repo},                \n",
    "                               index=[0]), ignore_index=True)\n",
    "\n",
    "    return data"
   ]
  },
  {
   "cell_type": "code",
   "execution_count": 23,
   "metadata": {},
   "outputs": [
    {
     "name": "stdout",
     "output_type": "stream",
     "text": [
      "Done! File is saved\n"
     ]
    }
   ],
   "source": [
    "# Execute the extractInfo function\n",
    "tsc_data = extractInfo(tsc_list, DOI, Repo)\n",
    "\n",
    "# save the table locally in the current folder using the name \"tsc_UUID-of-dataset\"\n",
    "tsc_data.to_csv('.\\\\tsc_' + dsv + '.csv', index = False, header=True)\n",
    "\n",
    "print(\"Done! File is saved\")"
   ]
  }
 ],
 "metadata": {
  "kernelspec": {
   "display_name": "Python 3 (ipykernel)",
   "language": "python",
   "name": "python3"
  },
  "language_info": {
   "codemirror_mode": {
    "name": "ipython",
    "version": 3
   },
   "file_extension": ".py",
   "mimetype": "text/x-python",
   "name": "python",
   "nbconvert_exporter": "python",
   "pygments_lexer": "ipython3",
   "version": "3.8.3"
  }
 },
 "nbformat": 4,
 "nbformat_minor": 4
}
